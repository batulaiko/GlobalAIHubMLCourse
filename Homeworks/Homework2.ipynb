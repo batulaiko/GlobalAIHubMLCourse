{
 "cells": [
  {
   "cell_type": "markdown",
   "metadata": {},
   "source": [
    "## Homework 2\n",
    "\n",
    "* Import Boston Dataset from sklearn dataset class.\n",
    "* Explore and analyse raw data.\n",
    "* Do preprocessing for regression.\n",
    "* Split your dataset into train and test test (0.7 for train and 0.3 for test).\n",
    "* Try Ridge and Lasso Regression models with at least 5 different alpha value for each.\n",
    "* Evaluate the results of all models and choose the best performing model."
   ]
  },
  {
   "cell_type": "code",
   "execution_count": 20,
   "metadata": {},
   "outputs": [],
   "source": [
    "from sklearn.datasets import load_boston\n",
    "import pandas as pd\n",
    "import numpy as np\n",
    "from sklearn.linear_model import LinearRegression, Ridge, Lasso\n",
    "from sklearn.metrics import r2_score\n",
    "from sklearn import preprocessing"
   ]
  },
  {
   "cell_type": "code",
   "execution_count": 8,
   "metadata": {},
   "outputs": [
    {
     "data": {
      "text/html": [
       "<div>\n",
       "<style scoped>\n",
       "    .dataframe tbody tr th:only-of-type {\n",
       "        vertical-align: middle;\n",
       "    }\n",
       "\n",
       "    .dataframe tbody tr th {\n",
       "        vertical-align: top;\n",
       "    }\n",
       "\n",
       "    .dataframe thead th {\n",
       "        text-align: right;\n",
       "    }\n",
       "</style>\n",
       "<table border=\"1\" class=\"dataframe\">\n",
       "  <thead>\n",
       "    <tr style=\"text-align: right;\">\n",
       "      <th></th>\n",
       "      <th>CRIM</th>\n",
       "      <th>ZN</th>\n",
       "      <th>INDUS</th>\n",
       "      <th>CHAS</th>\n",
       "      <th>NOX</th>\n",
       "      <th>RM</th>\n",
       "      <th>AGE</th>\n",
       "      <th>DIS</th>\n",
       "      <th>RAD</th>\n",
       "      <th>TAX</th>\n",
       "      <th>PTRATIO</th>\n",
       "      <th>B</th>\n",
       "      <th>LSTAT</th>\n",
       "    </tr>\n",
       "  </thead>\n",
       "  <tbody>\n",
       "    <tr>\n",
       "      <th>0</th>\n",
       "      <td>0.00632</td>\n",
       "      <td>18.0</td>\n",
       "      <td>2.31</td>\n",
       "      <td>0.0</td>\n",
       "      <td>0.538</td>\n",
       "      <td>6.575</td>\n",
       "      <td>65.2</td>\n",
       "      <td>4.0900</td>\n",
       "      <td>1.0</td>\n",
       "      <td>296.0</td>\n",
       "      <td>15.3</td>\n",
       "      <td>396.90</td>\n",
       "      <td>4.98</td>\n",
       "    </tr>\n",
       "    <tr>\n",
       "      <th>1</th>\n",
       "      <td>0.02731</td>\n",
       "      <td>0.0</td>\n",
       "      <td>7.07</td>\n",
       "      <td>0.0</td>\n",
       "      <td>0.469</td>\n",
       "      <td>6.421</td>\n",
       "      <td>78.9</td>\n",
       "      <td>4.9671</td>\n",
       "      <td>2.0</td>\n",
       "      <td>242.0</td>\n",
       "      <td>17.8</td>\n",
       "      <td>396.90</td>\n",
       "      <td>9.14</td>\n",
       "    </tr>\n",
       "    <tr>\n",
       "      <th>2</th>\n",
       "      <td>0.02729</td>\n",
       "      <td>0.0</td>\n",
       "      <td>7.07</td>\n",
       "      <td>0.0</td>\n",
       "      <td>0.469</td>\n",
       "      <td>7.185</td>\n",
       "      <td>61.1</td>\n",
       "      <td>4.9671</td>\n",
       "      <td>2.0</td>\n",
       "      <td>242.0</td>\n",
       "      <td>17.8</td>\n",
       "      <td>392.83</td>\n",
       "      <td>4.03</td>\n",
       "    </tr>\n",
       "    <tr>\n",
       "      <th>3</th>\n",
       "      <td>0.03237</td>\n",
       "      <td>0.0</td>\n",
       "      <td>2.18</td>\n",
       "      <td>0.0</td>\n",
       "      <td>0.458</td>\n",
       "      <td>6.998</td>\n",
       "      <td>45.8</td>\n",
       "      <td>6.0622</td>\n",
       "      <td>3.0</td>\n",
       "      <td>222.0</td>\n",
       "      <td>18.7</td>\n",
       "      <td>394.63</td>\n",
       "      <td>2.94</td>\n",
       "    </tr>\n",
       "    <tr>\n",
       "      <th>4</th>\n",
       "      <td>0.06905</td>\n",
       "      <td>0.0</td>\n",
       "      <td>2.18</td>\n",
       "      <td>0.0</td>\n",
       "      <td>0.458</td>\n",
       "      <td>7.147</td>\n",
       "      <td>54.2</td>\n",
       "      <td>6.0622</td>\n",
       "      <td>3.0</td>\n",
       "      <td>222.0</td>\n",
       "      <td>18.7</td>\n",
       "      <td>396.90</td>\n",
       "      <td>5.33</td>\n",
       "    </tr>\n",
       "  </tbody>\n",
       "</table>\n",
       "</div>"
      ],
      "text/plain": [
       "      CRIM    ZN  INDUS  CHAS    NOX     RM   AGE     DIS  RAD    TAX  \\\n",
       "0  0.00632  18.0   2.31   0.0  0.538  6.575  65.2  4.0900  1.0  296.0   \n",
       "1  0.02731   0.0   7.07   0.0  0.469  6.421  78.9  4.9671  2.0  242.0   \n",
       "2  0.02729   0.0   7.07   0.0  0.469  7.185  61.1  4.9671  2.0  242.0   \n",
       "3  0.03237   0.0   2.18   0.0  0.458  6.998  45.8  6.0622  3.0  222.0   \n",
       "4  0.06905   0.0   2.18   0.0  0.458  7.147  54.2  6.0622  3.0  222.0   \n",
       "\n",
       "   PTRATIO       B  LSTAT  \n",
       "0     15.3  396.90   4.98  \n",
       "1     17.8  396.90   9.14  \n",
       "2     17.8  392.83   4.03  \n",
       "3     18.7  394.63   2.94  \n",
       "4     18.7  396.90   5.33  "
      ]
     },
     "execution_count": 8,
     "metadata": {},
     "output_type": "execute_result"
    }
   ],
   "source": [
    "Xb,yb =load_boston(return_X_y=True)\n",
    "\n",
    "df = pd.DataFrame(Xb,columns = load_boston().feature_names)\n",
    "df.head()"
   ]
  },
  {
   "cell_type": "code",
   "execution_count": 25,
   "metadata": {},
   "outputs": [
    {
     "data": {
      "text/plain": [
       "<bound method DataFrame.corr of              CRIM        ZN     INDUS      CHAS       NOX        RM       AGE  \\\n",
       "CRIM     1.000000 -0.200469  0.406583 -0.055892  0.420972 -0.219247  0.352734   \n",
       "ZN      -0.200469  1.000000 -0.533828 -0.042697 -0.516604  0.311991 -0.569537   \n",
       "INDUS    0.406583 -0.533828  1.000000  0.062938  0.763651 -0.391676  0.644779   \n",
       "CHAS    -0.055892 -0.042697  0.062938  1.000000  0.091203  0.091251  0.086518   \n",
       "NOX      0.420972 -0.516604  0.763651  0.091203  1.000000 -0.302188  0.731470   \n",
       "RM      -0.219247  0.311991 -0.391676  0.091251 -0.302188  1.000000 -0.240265   \n",
       "AGE      0.352734 -0.569537  0.644779  0.086518  0.731470 -0.240265  1.000000   \n",
       "DIS     -0.379670  0.664408 -0.708027 -0.099176 -0.769230  0.205246 -0.747881   \n",
       "RAD      0.625505 -0.311948  0.595129 -0.007368  0.611441 -0.209847  0.456022   \n",
       "TAX      0.582764 -0.314563  0.720760 -0.035587  0.668023 -0.292048  0.506456   \n",
       "PTRATIO  0.289946 -0.391679  0.383248 -0.121515  0.188933 -0.355501  0.261515   \n",
       "B       -0.385064  0.175520 -0.356977  0.048788 -0.380051  0.128069 -0.273534   \n",
       "LSTAT    0.455621 -0.412995  0.603800 -0.053929  0.590879 -0.613808  0.602339   \n",
       "\n",
       "              DIS       RAD       TAX   PTRATIO         B     LSTAT  \n",
       "CRIM    -0.379670  0.625505  0.582764  0.289946 -0.385064  0.455621  \n",
       "ZN       0.664408 -0.311948 -0.314563 -0.391679  0.175520 -0.412995  \n",
       "INDUS   -0.708027  0.595129  0.720760  0.383248 -0.356977  0.603800  \n",
       "CHAS    -0.099176 -0.007368 -0.035587 -0.121515  0.048788 -0.053929  \n",
       "NOX     -0.769230  0.611441  0.668023  0.188933 -0.380051  0.590879  \n",
       "RM       0.205246 -0.209847 -0.292048 -0.355501  0.128069 -0.613808  \n",
       "AGE     -0.747881  0.456022  0.506456  0.261515 -0.273534  0.602339  \n",
       "DIS      1.000000 -0.494588 -0.534432 -0.232471  0.291512 -0.496996  \n",
       "RAD     -0.494588  1.000000  0.910228  0.464741 -0.444413  0.488676  \n",
       "TAX     -0.534432  0.910228  1.000000  0.460853 -0.441808  0.543993  \n",
       "PTRATIO -0.232471  0.464741  0.460853  1.000000 -0.177383  0.374044  \n",
       "B        0.291512 -0.444413 -0.441808 -0.177383  1.000000 -0.366087  \n",
       "LSTAT   -0.496996  0.488676  0.543993  0.374044 -0.366087  1.000000  >"
      ]
     },
     "execution_count": 25,
     "metadata": {},
     "output_type": "execute_result"
    }
   ],
   "source": [
    "#Elemination of Missing Values\n",
    "df.isnull().sum()\n",
    "df.dropna()\n",
    "df.corr"
   ]
  },
  {
   "cell_type": "code",
   "execution_count": 11,
   "metadata": {},
   "outputs": [],
   "source": [
    "#Split Train Test Ratio\n",
    "# IF test_Size = 0.3, Train automaticly equals to 0.7\n",
    "from sklearn.model_selection import train_test_split\n",
    "X_train, X_test, y_train, y_test = train_test_split(Xb,yb, test_size=0.3, random_state=42)"
   ]
  },
  {
   "cell_type": "code",
   "execution_count": 61,
   "metadata": {},
   "outputs": [
    {
     "name": "stdout",
     "output_type": "stream",
     "text": [
      "Ridge Train Acc's for each alpha : \n",
      " [0.7434997531997307, 0.7434997531265819, 0.7434997458244244, 0.7434990281567367, 0.7434382188771707]\n",
      "Ridge Test Acc's for each alpha : \n",
      " [0.7112259149897341, 0.7112250981524475, 0.7112169289517236, 0.7111351633163316, 0.7103178206391334]\n",
      "Ridge Train Acc is good at Alpha =  1e-05\n",
      "Ridge Test Acc is good at Alpha =  1e-05\n"
     ]
    }
   ],
   "source": [
    "#For Ridge Reggression\n",
    "alphas = [0.00001,0.0001,0.001,0.01,0.1]\n",
    "ridge_train_acc = []\n",
    "ridge_test_acc = []\n",
    "for i in range(len(alphas)):\n",
    "    ridge_model = Ridge(alpha = alphas[i])\n",
    "    ridge_model.fit(X_train,y_train)\n",
    "    ridge_train_acc.append(ridge_model.score(X_train,y_train))\n",
    "    ridge_test_acc.append(ridge_model.score(X_test,y_test))\n",
    "ridge_list = pd.DataFrame(list(zip(alphas, ridge_train_acc,ridge_test_acc)),\n",
    "              columns=['Alphas','Train','Test'])\n",
    "max_ridge_train = ridge_list.loc[ridge_list['Train'] == max(ridge_list['Train'])]\n",
    "max_ridge_test = ridge_list.loc[ridge_list['Test'] == max(ridge_list['Test'])]\n",
    "\n",
    "max_ridge_train_alpha = float(max_ridge_train['Alphas'])\n",
    "max_ridge_test_alpha = float(max_ridge_test['Alphas'])\n",
    "\n",
    "print(\"Ridge Train Acc's for each alpha : \\n\",ridge_train_acc)\n",
    "print(\"Ridge Test Acc's for each alpha : \\n\",ridge_test_acc)\n",
    "print(\"Ridge Train Acc is good at Alpha = \",max_ridge_train_alpha)\n",
    "print(\"Ridge Test Acc is good at Alpha = \",max_ridge_test_alpha)"
   ]
  },
  {
   "cell_type": "code",
   "execution_count": 60,
   "metadata": {},
   "outputs": [
    {
     "name": "stdout",
     "output_type": "stream",
     "text": [
      "lasso Train Acc's for each alpha : \n",
      " [0.7434997527671134, 0.7434997098661364, 0.7434954195159733, 0.743066482217795, 0.7335268365408683]\n",
      "lasso Test Acc's for each alpha : \n",
      " [0.7112241989771798, 0.7112078878848564, 0.7110394345928663, 0.7088264519692221, 0.6918147952283058]\n",
      "lasso Train Acc is good at Alpha =  1e-05\n",
      "lasso Test Acc is good at Alpha =  1e-05\n"
     ]
    }
   ],
   "source": [
    "#For lasso Reggression\n",
    "alphas = [0.00001,0.0001,0.001,0.01,0.1]\n",
    "lasso_train_acc = []\n",
    "lasso_test_acc = []\n",
    "for i in range(len(alphas)):\n",
    "    lasso_model = Lasso(alpha = alphas[i])\n",
    "    lasso_model.fit(X_train,y_train)\n",
    "    lasso_train_acc.append(lasso_model.score(X_train,y_train))\n",
    "    lasso_test_acc.append(lasso_model.score(X_test,y_test))\n",
    "lasso_list = pd.DataFrame(list(zip(alphas, lasso_train_acc,lasso_test_acc)),\n",
    "              columns=['Alphas','Train','Test'])\n",
    "max_lasso_train = lasso_list.loc[lasso_list['Train'] == max(lasso_list['Train'])]\n",
    "max_lasso_test = lasso_list.loc[lasso_list['Test'] == max(lasso_list['Test'])]\n",
    "\n",
    "max_lasso_train_alpha = float(max_lasso_train['Alphas'])\n",
    "max_lasso_test_alpha = float(max_lasso_test['Alphas'])\n",
    "print(\"lasso Train Acc's for each alpha : \\n\",lasso_train_acc)\n",
    "print(\"lasso Test Acc's for each alpha : \\n\",lasso_test_acc)\n",
    "print(\"lasso Train Acc is good at Alpha = \",max_lasso_train_alpha)\n",
    "print(\"lasso Test Acc is good at Alpha = \",max_lasso_test_alpha)"
   ]
  },
  {
   "cell_type": "code",
   "execution_count": 64,
   "metadata": {},
   "outputs": [
    {
     "name": "stdout",
     "output_type": "stream",
     "text": [
      "Lasso Train :  0.7434997527671134\n",
      "Lasso Test :  0.7112241989771798\n",
      "Lasso's Alpha :  1e-05\n",
      "****************************************\n",
      "Ridge Train :  0.7434997531997307\n",
      "Ridge Train :  0.7112259149897341\n",
      "Ridge's Alpha :  1e-05\n"
     ]
    }
   ],
   "source": [
    "# Evaluation of the results of both models.\n",
    "print(\"Lasso Train : \",float(max_lasso_train['Train']))\n",
    "print(\"Lasso Test : \",float(max_lasso_test['Test']))\n",
    "print(\"Lasso's Alpha : \",float(max_lasso_train['Alphas']))\n",
    "print(\"****************************************\")\n",
    "print(\"Ridge Train : \",float(max_ridge_train['Train']))\n",
    "print(\"Ridge Train : \",float(max_ridge_test['Test']))\n",
    "print(\"Ridge's Alpha : \",float(max_ridge_train['Alphas']))"
   ]
  },
  {
   "cell_type": "code",
   "execution_count": null,
   "metadata": {},
   "outputs": [],
   "source": []
  }
 ],
 "metadata": {
  "kernelspec": {
   "display_name": "Python 3",
   "language": "python",
   "name": "python3"
  },
  "language_info": {
   "codemirror_mode": {
    "name": "ipython",
    "version": 3
   },
   "file_extension": ".py",
   "mimetype": "text/x-python",
   "name": "python",
   "nbconvert_exporter": "python",
   "pygments_lexer": "ipython3",
   "version": "3.8.3"
  }
 },
 "nbformat": 4,
 "nbformat_minor": 4
}
