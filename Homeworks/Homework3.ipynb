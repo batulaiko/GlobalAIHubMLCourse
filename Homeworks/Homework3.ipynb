{
 "cells": [
  {
   "cell_type": "markdown",
   "metadata": {},
   "source": [
    "## Homework 3\n",
    "\n",
    "* Generate dataset using `make_blobs` function in the sklearn.datasets class. Generate 2000 samples with 3 features (X) with one label (y).\n",
    "* Explore and analyse raw data.\n",
    "* Do preprocessing for classification.\n",
    "* Split your dataset into train and test test (0.7 for train and 0.3 for test).\n",
    "* Try Decision Tree and XGBoost Algorithm with different hyperparameters. (Using GridSearchCV is a plus)\n",
    "* Evaluate your result on both train and test set. Analyse if there is any underfitting or overfitting problem. Make your comments."
   ]
  },
  {
   "cell_type": "code",
   "execution_count": 16,
   "metadata": {},
   "outputs": [],
   "source": [
    "from sklearn.datasets import make_blobs\n",
    "import pandas as pd\n",
    "import numpy as np\n",
    "import seaborn as sns\n",
    "import matplotlib.pyplot as plt\n",
    "\n",
    "from sklearn.tree import DecisionTreeClassifier\n",
    "from sklearn.preprocessing import LabelEncoder\n",
    "from sklearn.model_selection import train_test_split, GridSearchCV\n",
    "from sklearn.metrics import confusion_matrix,accuracy_score,precision_score, recall_score, accuracy_score, classification_report, f1_score\n",
    "\n",
    "from xgboost.sklearn import XGBClassifier\n",
    "from sklearn.model_selection import GridSearchCV, RandomizedSearchCV  \n"
   ]
  },
  {
   "cell_type": "code",
   "execution_count": 23,
   "metadata": {},
   "outputs": [
    {
     "data": {
      "text/html": [
       "<div>\n",
       "<style scoped>\n",
       "    .dataframe tbody tr th:only-of-type {\n",
       "        vertical-align: middle;\n",
       "    }\n",
       "\n",
       "    .dataframe tbody tr th {\n",
       "        vertical-align: top;\n",
       "    }\n",
       "\n",
       "    .dataframe thead th {\n",
       "        text-align: right;\n",
       "    }\n",
       "</style>\n",
       "<table border=\"1\" class=\"dataframe\">\n",
       "  <thead>\n",
       "    <tr style=\"text-align: right;\">\n",
       "      <th></th>\n",
       "      <th>Group1</th>\n",
       "      <th>Group2</th>\n",
       "      <th>Group3</th>\n",
       "    </tr>\n",
       "  </thead>\n",
       "  <tbody>\n",
       "    <tr>\n",
       "      <th>0</th>\n",
       "      <td>-8.499150</td>\n",
       "      <td>5.667142</td>\n",
       "      <td>1.509983</td>\n",
       "    </tr>\n",
       "    <tr>\n",
       "      <th>1</th>\n",
       "      <td>-9.736497</td>\n",
       "      <td>7.584346</td>\n",
       "      <td>1.997468</td>\n",
       "    </tr>\n",
       "    <tr>\n",
       "      <th>2</th>\n",
       "      <td>0.773310</td>\n",
       "      <td>-7.171882</td>\n",
       "      <td>-6.727008</td>\n",
       "    </tr>\n",
       "    <tr>\n",
       "      <th>3</th>\n",
       "      <td>1.745282</td>\n",
       "      <td>-5.885697</td>\n",
       "      <td>-7.788316</td>\n",
       "    </tr>\n",
       "    <tr>\n",
       "      <th>4</th>\n",
       "      <td>1.583768</td>\n",
       "      <td>-5.288722</td>\n",
       "      <td>-7.983133</td>\n",
       "    </tr>\n",
       "  </tbody>\n",
       "</table>\n",
       "</div>"
      ],
      "text/plain": [
       "     Group1    Group2    Group3\n",
       "0 -8.499150  5.667142  1.509983\n",
       "1 -9.736497  7.584346  1.997468\n",
       "2  0.773310 -7.171882 -6.727008\n",
       "3  1.745282 -5.885697 -7.788316\n",
       "4  1.583768 -5.288722 -7.983133"
      ]
     },
     "execution_count": 23,
     "metadata": {},
     "output_type": "execute_result"
    }
   ],
   "source": [
    "X, y = make_blobs(n_samples=2000, n_features=3,random_state=42)\n",
    "df = pd.DataFrame(X,columns = [\"Group1\",\"Group2\",\"Group3\"])\n",
    "df.head()"
   ]
  },
  {
   "cell_type": "code",
   "execution_count": 4,
   "metadata": {
    "scrolled": true
   },
   "outputs": [
    {
     "data": {
      "text/plain": [
       "<bound method DataFrame.corr of          Group1    Group2    Group3\n",
       "0     -8.499150  5.667142  1.509983\n",
       "1     -9.736497  7.584346  1.997468\n",
       "2      0.773310 -7.171882 -6.727008\n",
       "3      1.745282 -5.885697 -7.788316\n",
       "4      1.583768 -5.288722 -7.983133\n",
       "...         ...       ...       ...\n",
       "1995  -7.004843  6.572623 -0.021636\n",
       "1996 -10.213553  7.144539  1.863649\n",
       "1997   0.055070 -7.029731 -5.528081\n",
       "1998   3.402287 -7.494578 -6.555095\n",
       "1999  -4.138791  9.566150  6.645453\n",
       "\n",
       "[2000 rows x 3 columns]>"
      ]
     },
     "execution_count": 4,
     "metadata": {},
     "output_type": "execute_result"
    }
   ],
   "source": [
    "#Elemination of Missing Values\n",
    "df.isnull().sum()\n",
    "df.dropna()\n",
    "df.corr"
   ]
  },
  {
   "cell_type": "code",
   "execution_count": 5,
   "metadata": {},
   "outputs": [
    {
     "data": {
      "text/html": [
       "<div>\n",
       "<style scoped>\n",
       "    .dataframe tbody tr th:only-of-type {\n",
       "        vertical-align: middle;\n",
       "    }\n",
       "\n",
       "    .dataframe tbody tr th {\n",
       "        vertical-align: top;\n",
       "    }\n",
       "\n",
       "    .dataframe thead th {\n",
       "        text-align: right;\n",
       "    }\n",
       "</style>\n",
       "<table border=\"1\" class=\"dataframe\">\n",
       "  <thead>\n",
       "    <tr style=\"text-align: right;\">\n",
       "      <th></th>\n",
       "      <th>Group1</th>\n",
       "      <th>Group2</th>\n",
       "      <th>Group3</th>\n",
       "    </tr>\n",
       "  </thead>\n",
       "  <tbody>\n",
       "    <tr>\n",
       "      <th>count</th>\n",
       "      <td>2000.000000</td>\n",
       "      <td>2000.000000</td>\n",
       "      <td>2000.000000</td>\n",
       "    </tr>\n",
       "    <tr>\n",
       "      <th>mean</th>\n",
       "      <td>-3.185601</td>\n",
       "      <td>3.158252</td>\n",
       "      <td>-0.058714</td>\n",
       "    </tr>\n",
       "    <tr>\n",
       "      <th>std</th>\n",
       "      <td>4.552214</td>\n",
       "      <td>7.209014</td>\n",
       "      <td>5.037935</td>\n",
       "    </tr>\n",
       "    <tr>\n",
       "      <th>min</th>\n",
       "      <td>-12.420390</td>\n",
       "      <td>-10.351057</td>\n",
       "      <td>-9.712629</td>\n",
       "    </tr>\n",
       "    <tr>\n",
       "      <th>25%</th>\n",
       "      <td>-8.239049</td>\n",
       "      <td>-6.206542</td>\n",
       "      <td>-6.163356</td>\n",
       "    </tr>\n",
       "    <tr>\n",
       "      <th>50%</th>\n",
       "      <td>-2.522167</td>\n",
       "      <td>7.251697</td>\n",
       "      <td>1.965763</td>\n",
       "    </tr>\n",
       "    <tr>\n",
       "      <th>75%</th>\n",
       "      <td>1.275338</td>\n",
       "      <td>8.652427</td>\n",
       "      <td>4.039708</td>\n",
       "    </tr>\n",
       "    <tr>\n",
       "      <th>max</th>\n",
       "      <td>4.543077</td>\n",
       "      <td>11.952039</td>\n",
       "      <td>8.012175</td>\n",
       "    </tr>\n",
       "  </tbody>\n",
       "</table>\n",
       "</div>"
      ],
      "text/plain": [
       "            Group1       Group2       Group3\n",
       "count  2000.000000  2000.000000  2000.000000\n",
       "mean     -3.185601     3.158252    -0.058714\n",
       "std       4.552214     7.209014     5.037935\n",
       "min     -12.420390   -10.351057    -9.712629\n",
       "25%      -8.239049    -6.206542    -6.163356\n",
       "50%      -2.522167     7.251697     1.965763\n",
       "75%       1.275338     8.652427     4.039708\n",
       "max       4.543077    11.952039     8.012175"
      ]
     },
     "execution_count": 5,
     "metadata": {},
     "output_type": "execute_result"
    }
   ],
   "source": [
    "df.describe()"
   ]
  },
  {
   "cell_type": "code",
   "execution_count": 32,
   "metadata": {},
   "outputs": [
    {
     "data": {
      "text/plain": [
       "<matplotlib.axes._subplots.AxesSubplot at 0x210bae01310>"
      ]
     },
     "execution_count": 32,
     "metadata": {},
     "output_type": "execute_result"
    },
    {
     "data": {
      "image/png": "[encoded data removed]",
      "text/plain": [
       "<Figure size 432x288 with 1 Axes>"
      ]
     },
     "metadata": {
      "needs_background": "light"
     },
     "output_type": "display_data"
    }
   ],
   "source": [
    "sns.scatterplot(x=\"Group1\", y=\"Group2\", hue=y, data=df)"
   ]
  },
  {
   "cell_type": "code",
   "execution_count": 7,
   "metadata": {},
   "outputs": [
    {
     "data": {
      "text/html": [
       "<div>\n",
       "<style scoped>\n",
       "    .dataframe tbody tr th:only-of-type {\n",
       "        vertical-align: middle;\n",
       "    }\n",
       "\n",
       "    .dataframe tbody tr th {\n",
       "        vertical-align: top;\n",
       "    }\n",
       "\n",
       "    .dataframe thead th {\n",
       "        text-align: right;\n",
       "    }\n",
       "</style>\n",
       "<table border=\"1\" class=\"dataframe\">\n",
       "  <thead>\n",
       "    <tr style=\"text-align: right;\">\n",
       "      <th></th>\n",
       "      <th>Group1</th>\n",
       "      <th>Group2</th>\n",
       "      <th>Group3</th>\n",
       "      <th>Label</th>\n",
       "    </tr>\n",
       "  </thead>\n",
       "  <tbody>\n",
       "    <tr>\n",
       "      <th>0</th>\n",
       "      <td>-8.499150</td>\n",
       "      <td>5.667142</td>\n",
       "      <td>1.509983</td>\n",
       "      <td>441</td>\n",
       "    </tr>\n",
       "    <tr>\n",
       "      <th>1</th>\n",
       "      <td>-9.736497</td>\n",
       "      <td>7.584346</td>\n",
       "      <td>1.997468</td>\n",
       "      <td>125</td>\n",
       "    </tr>\n",
       "    <tr>\n",
       "      <th>2</th>\n",
       "      <td>0.773310</td>\n",
       "      <td>-7.171882</td>\n",
       "      <td>-6.727008</td>\n",
       "      <td>1403</td>\n",
       "    </tr>\n",
       "    <tr>\n",
       "      <th>3</th>\n",
       "      <td>1.745282</td>\n",
       "      <td>-5.885697</td>\n",
       "      <td>-7.788316</td>\n",
       "      <td>1640</td>\n",
       "    </tr>\n",
       "    <tr>\n",
       "      <th>4</th>\n",
       "      <td>1.583768</td>\n",
       "      <td>-5.288722</td>\n",
       "      <td>-7.983133</td>\n",
       "      <td>1585</td>\n",
       "    </tr>\n",
       "  </tbody>\n",
       "</table>\n",
       "</div>"
      ],
      "text/plain": [
       "     Group1    Group2    Group3  Label\n",
       "0 -8.499150  5.667142  1.509983    441\n",
       "1 -9.736497  7.584346  1.997468    125\n",
       "2  0.773310 -7.171882 -6.727008   1403\n",
       "3  1.745282 -5.885697 -7.788316   1640\n",
       "4  1.583768 -5.288722 -7.983133   1585"
      ]
     },
     "execution_count": 7,
     "metadata": {},
     "output_type": "execute_result"
    }
   ],
   "source": [
    "label_encoder = LabelEncoder()\n",
    "df[\"Label\"] = label_encoder.fit_transform(df[\"Group1\"]) \n",
    "df.head()"
   ]
  },
  {
   "cell_type": "code",
   "execution_count": 8,
   "metadata": {},
   "outputs": [],
   "source": [
    "#Split Train Test Ratio\n",
    "# IF test_Size = 0.3, Train automaticly equals to 0.7\n",
    "from sklearn.model_selection import train_test_split\n",
    "X_train, X_test, y_train, y_test = train_test_split(X,y, test_size=0.3, random_state=42)"
   ]
  },
  {
   "cell_type": "code",
   "execution_count": 12,
   "metadata": {
    "scrolled": true
   },
   "outputs": [
    {
     "name": "stdout",
     "output_type": "stream",
     "text": [
      "Fitting 10 folds for each of 1620 candidates, totalling 16200 fits\n"
     ]
    },
    {
     "name": "stderr",
     "output_type": "stream",
     "text": [
      "[Parallel(n_jobs=-1)]: Using backend LokyBackend with 8 concurrent workers.\n",
      "[Parallel(n_jobs=-1)]: Done  56 tasks      | elapsed:    0.0s\n",
      "[Parallel(n_jobs=-1)]: Done 11248 tasks      | elapsed:    3.3s\n"
     ]
    },
    {
     "name": "stdout",
     "output_type": "stream",
     "text": [
      "Tuned: {'criterion': 'gini', 'max_depth': 2, 'min_samples_leaf': 1, 'min_samples_split': 2}\n",
      "Mean of the cv scores is 1.000000\n",
      "Train Score 1.000000\n",
      "Test Score 1.000000\n",
      "Seconds used for refitting the best model on the train dataset: 0.002000\n"
     ]
    },
    {
     "name": "stderr",
     "output_type": "stream",
     "text": [
      "[Parallel(n_jobs=-1)]: Done 16200 out of 16200 | elapsed:    4.7s finished\n"
     ]
    }
   ],
   "source": [
    "param = [{\n",
    "    \"criterion\" : ['gini','entropy'],\n",
    "    \"max_depth\" : range(1,10),\n",
    "    \"min_samples_split\" : range(1,10),\n",
    "    \"min_samples_leaf\" : [1,2,4,5,10,20,30,40,80,100]\n",
    "}]\n",
    "decision = DecisionTreeClassifier()\n",
    "\n",
    "grid = GridSearchCV(estimator=decision,param_grid=param,cv=10,verbose=1,n_jobs=-1)\n",
    "grid.fit(X_train,y_train)\n",
    "print(\"Tuned: {}\".format(grid.best_params_)) \n",
    "print(\"Mean of the cv scores is {:.6f}\".format(grid.best_score_))\n",
    "print(\"Train Score {:.6f}\".format(grid.score(X_train,y_train)))\n",
    "print(\"Test Score {:.6f}\".format(grid.score(X_test,y_test)))\n",
    "print(\"Seconds used for refitting the best model on the train dataset: {:.6f}\".format(grid.refit_time_))"
   ]
  },
  {
   "cell_type": "code",
   "execution_count": 38,
   "metadata": {},
   "outputs": [
    {
     "name": "stdout",
     "output_type": "stream",
     "text": [
      "              precision    recall  f1-score   support\n",
      "\n",
      "           0       1.00      1.00      1.00       192\n",
      "           1       1.00      1.00      1.00       198\n",
      "           2       1.00      1.00      1.00       210\n",
      "\n",
      "    accuracy                           1.00       600\n",
      "   macro avg       1.00      1.00      1.00       600\n",
      "weighted avg       1.00      1.00      1.00       600\n",
      "\n"
     ]
    }
   ],
   "source": [
    "grid_pred = grid.predict(X_test)\n",
    "print(classification_report(y_test,grid_pred))"
   ]
  },
  {
   "cell_type": "code",
   "execution_count": 39,
   "metadata": {},
   "outputs": [
    {
     "name": "stdout",
     "output_type": "stream",
     "text": [
      "Precision = 1.0\n",
      "Recall = 1.0\n",
      "Accuracy = 1.0\n",
      "F1 Score = 1.0\n"
     ]
    }
   ],
   "source": [
    "# Metrics\n",
    "print(\"Precision = {}\".format(precision_score(y_test, grid_pred, average='macro')))\n",
    "print(\"Recall = {}\".format(recall_score(y_test, grid_pred, average='macro')))\n",
    "print(\"Accuracy = {}\".format(accuracy_score(y_test, grid_pred)))\n",
    "print(\"F1 Score = {}\".format(f1_score(y_test, grid_pred,average='macro')))\n"
   ]
  },
  {
   "cell_type": "code",
   "execution_count": 40,
   "metadata": {},
   "outputs": [
    {
     "data": {
      "image/png": "[encoded data removed]",
      "text/plain": [
       "<Figure size 864x576 with 1 Axes>"
      ]
     },
     "metadata": {
      "needs_background": "light"
     },
     "output_type": "display_data"
    }
   ],
   "source": [
    "# Confusion Matrix\n",
    "cm = confusion_matrix(y_test, grid_pred)\n",
    "plt.figure(figsize=(12, 8))\n",
    "ax =sns.heatmap(cm, square=True, annot=True, cbar=False)\n",
    "ax.set_xlabel('Predicted Labels',fontsize = 15)\n",
    "ax.set_ylabel('True Labels',fontsize = 15)\n",
    "plt.show()"
   ]
  },
  {
   "cell_type": "code",
   "execution_count": 43,
   "metadata": {},
   "outputs": [
    {
     "data": {
      "text/plain": [
       "dict_keys(['objective', 'use_label_encoder', 'base_score', 'booster', 'colsample_bylevel', 'colsample_bynode', 'colsample_bytree', 'gamma', 'gpu_id', 'importance_type', 'interaction_constraints', 'learning_rate', 'max_delta_step', 'max_depth', 'min_child_weight', 'missing', 'monotone_constraints', 'n_estimators', 'n_jobs', 'num_parallel_tree', 'random_state', 'reg_alpha', 'reg_lambda', 'scale_pos_weight', 'subsample', 'tree_method', 'validate_parameters', 'verbosity', 'nthread', 'seed'])"
      ]
     },
     "execution_count": 43,
     "metadata": {},
     "output_type": "execute_result"
    }
   ],
   "source": [
    "param_dict = {\n",
    "    'max_depth':range(3,10,2),\n",
    "    'min_child_weight':range(1,6,2),\n",
    "    'learning_rate': [0.00001,0.001,0.01,0.1,1,2],\n",
    "    'n_estimators': [10,190,200,210,500,1000,2000]\n",
    "    \n",
    "}\n",
    "\n",
    "xgc = XGBClassifier(booster='gbtree', learning_rate =0.01, n_estimators=200, max_depth=5,\n",
    " min_child_weight=1, gamma=0, subsample=0.8, colsample_bytree=0.8,\n",
    " objective= 'multi:softprob', nthread=4, scale_pos_weight=1, seed=27)\n",
    "xgc.get_params().keys()"
   ]
  },
  {
   "cell_type": "code",
   "execution_count": 44,
   "metadata": {},
   "outputs": [
    {
     "name": "stdout",
     "output_type": "stream",
     "text": [
      "[16:05:30] WARNING: C:/Users/Administrator/workspace/xgboost-win64_release_1.3.0/src/learner.cc:541: \n",
      "Parameters: { scale_pos_weight } might not be used.\n",
      "\n",
      "  This may not be accurate due to some parameters are only used in language bindings but\n",
      "  passed down to XGBoost core.  Or some parameters are not used but slip through this\n",
      "  verification. Please open an issue if you find above cases.\n",
      "\n",
      "\n",
      "[16:05:30] WARNING: C:/Users/Administrator/workspace/xgboost-win64_release_1.3.0/src/learner.cc:1061: Starting in XGBoost 1.3.0, the default evaluation metric used with the objective 'multi:softprob' was changed from 'merror' to 'mlogloss'. Explicitly set eval_metric if you'd like to restore the old behavior.\n",
      "Tuned: {'learning_rate': 1e-05, 'max_depth': 3, 'min_child_weight': 1, 'n_estimators': 10}\n",
      "Mean of the cv scores is 1.000000\n",
      "Train Score 0.995714\n",
      "Test Score 0.995000\n",
      "Seconds used for refitting the best model on the train dataset: 0.019004\n"
     ]
    },
    {
     "name": "stderr",
     "output_type": "stream",
     "text": [
      "C:\\Users\\batuy\\anaconda3\\lib\\site-packages\\xgboost\\sklearn.py:892: UserWarning: The use of label encoder in XGBClassifier is deprecated and will be removed in a future release. To remove this warning, do the following: 1) Pass option use_label_encoder=False when constructing XGBClassifier object; and 2) Encode your labels (y) as integers starting with 0, i.e. 0, 1, 2, ..., [num_class - 1].\n",
      "  warnings.warn(label_encoder_deprecation_msg, UserWarning)\n"
     ]
    }
   ],
   "source": [
    "clf = GridSearchCV(xgc,param_dict,cv=3, n_jobs = -1).fit(X_train,y_train)\n",
    "\n",
    "print(\"Tuned: {}\".format(clf.best_params_)) \n",
    "print(\"Mean of the cv scores is {:.6f}\".format(clf.best_score_))\n",
    "print(\"Train Score {:.6f}\".format(clf.score(X_train,y_train)))\n",
    "print(\"Test Score {:.6f}\".format(clf.score(X_test,y_test)))\n",
    "print(\"Seconds used for refitting the best model on the train dataset: {:.6f}\".format(clf.refit_time_))"
   ]
  },
  {
   "cell_type": "code",
   "execution_count": 45,
   "metadata": {},
   "outputs": [
    {
     "name": "stdout",
     "output_type": "stream",
     "text": [
      "              precision    recall  f1-score   support\n",
      "\n",
      "           0       1.00      1.00      1.00       192\n",
      "           1       1.00      1.00      1.00       198\n",
      "           2       1.00      1.00      1.00       210\n",
      "\n",
      "    accuracy                           1.00       600\n",
      "   macro avg       1.00      1.00      1.00       600\n",
      "weighted avg       1.00      1.00      1.00       600\n",
      "\n"
     ]
    }
   ],
   "source": [
    "xgboost_pred = grid.predict(X_test)\n",
    "print(classification_report(y_test,xgboost_pred))"
   ]
  },
  {
   "cell_type": "code",
   "execution_count": 46,
   "metadata": {},
   "outputs": [
    {
     "name": "stdout",
     "output_type": "stream",
     "text": [
      "Precision = 1.0\n",
      "Recall = 1.0\n",
      "Accuracy = 1.0\n",
      "F1 Score = 1.0\n"
     ]
    }
   ],
   "source": [
    "# Metrics\n",
    "print(\"Precision = {}\".format(precision_score(y_test, xgboost_pred, average='macro')))\n",
    "print(\"Recall = {}\".format(recall_score(y_test, xgboost_pred, average='macro')))\n",
    "print(\"Accuracy = {}\".format(accuracy_score(y_test, xgboost_pred)))\n",
    "print(\"F1 Score = {}\".format(f1_score(y_test, xgboost_pred,average='macro')))\n"
   ]
  },
  {
   "cell_type": "code",
   "execution_count": 47,
   "metadata": {},
   "outputs": [
    {
     "data": {
      "image/png": "[encoded data removed]",
      "text/plain": [
       "<Figure size 864x576 with 1 Axes>"
      ]
     },
     "metadata": {
      "needs_background": "light"
     },
     "output_type": "display_data"
    }
   ],
   "source": [
    "# Confusion Matrix\n",
    "cm = confusion_matrix(y_test, xgboost_pred)\n",
    "plt.figure(figsize=(12, 8))\n",
    "ax =sns.heatmap(cm, square=True, annot=True, cbar=False)\n",
    "ax.set_xlabel('Predicted Labels',fontsize = 15)\n",
    "ax.set_ylabel('True Labels',fontsize = 15)\n",
    "plt.show()"
   ]
  },
  {
   "cell_type": "code",
   "execution_count": 48,
   "metadata": {},
   "outputs": [
    {
     "name": "stdout",
     "output_type": "stream",
     "text": [
      "\n",
      "DecisionTree Results with GridSearchCV\n",
      "--------------------------------------------------\n",
      "Tuned: {'criterion': 'gini', 'max_depth': 2, 'min_samples_leaf': 1, 'min_samples_split': 2}\n",
      "Mean of the cv scores is 1.000000\n",
      "Train Score 1.000000\n",
      "Test Score 1.000000\n",
      "Seconds used for refitting the best model on the train dataset: 0.002000\n",
      "\n",
      "\n",
      "XGBoost Results with GridSearchCV\n",
      "--------------------------------------------------\n",
      "Tuned: {'learning_rate': 1e-05, 'max_depth': 3, 'min_child_weight': 1, 'n_estimators': 10}\n",
      "Mean of the cv scores is 1.000000\n",
      "Train Score 0.995714\n",
      "Test Score 0.995000\n",
      "Seconds used for refitting the best model on the train dataset: 0.019004\n"
     ]
    }
   ],
   "source": [
    "print(\"\\nDecisionTree Results with GridSearchCV\")\n",
    "print(\"--------------------------------------------------\")\n",
    "print(\"Tuned: {}\".format(grid.best_params_)) \n",
    "print(\"Mean of the cv scores is {:.6f}\".format(grid.best_score_))\n",
    "print(\"Train Score {:.6f}\".format(grid.score(X_train,y_train)))\n",
    "print(\"Test Score {:.6f}\".format(grid.score(X_test,y_test)))\n",
    "print(\"Seconds used for refitting the best model on the train dataset: {:.6f}\\n\\n\".format(grid.refit_time_))\n",
    "print(\"XGBoost Results with GridSearchCV\")\n",
    "print(\"--------------------------------------------------\")\n",
    "print(\"Tuned: {}\".format(clf.best_params_)) \n",
    "print(\"Mean of the cv scores is {:.6f}\".format(clf.best_score_))\n",
    "print(\"Train Score {:.6f}\".format(clf.score(X_train,y_train)))\n",
    "print(\"Test Score {:.6f}\".format(clf.score(X_test,y_test)))\n",
    "print(\"Seconds used for refitting the best model on the train dataset: {:.6f}\".format(clf.refit_time_))"
   ]
  },
  {
   "cell_type": "code",
   "execution_count": null,
   "metadata": {},
   "outputs": [],
   "source": []
  }
 ],
 "metadata": {
  "kernelspec": {
   "display_name": "Python 3",
   "language": "python",
   "name": "python3"
  },
  "language_info": {
   "codemirror_mode": {
    "name": "ipython",
    "version": 3
   },
   "file_extension": ".py",
   "mimetype": "text/x-python",
   "name": "python",
   "nbconvert_exporter": "python",
   "pygments_lexer": "ipython3",
   "version": "3.8.3"
  }
 },
 "nbformat": 4,
 "nbformat_minor": 4
}
